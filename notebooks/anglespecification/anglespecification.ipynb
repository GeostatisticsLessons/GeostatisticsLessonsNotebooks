{
 "cells": [
  {
   "cell_type": "markdown",
   "id": "0",
   "metadata": {},
   "source": [
    "<div style=\"text-align: center;padding-top:10px;padding-bottom:10px\">\n",
    "    <a href=\"https://geostatisticslessons.com/\" target=\"_blank\" style=\"color:#93c6c7\" >\n",
    "    <img src=\"https://geostatisticslessons.com/favicon-96x96.png\" alt=\"Geostatistics Lessons Link\" style=\"width:100px\">\n",
    "    </a>\n",
    "</div>\n",
    "\n",
    "<div style=\"text-align: center\">\n",
    "    <font style=\"color:#00797C;padding-bottom:-100px\"><center><b><font size=\"+3\">The Angle Specification for GSLIB Software</font></b></center></p>\n",
    "    <font style=\"color:#00797C;padding-bottom:50px\"><center><b><font size=\"+2\">A Companion Notebook to Geostatistics Lessons</font></b></center></p>    \n",
    "</div>\n",
    "\n",
    "<p class=\"author\" style=\"padding: 0;\"><center><b>Ben Harding and Matthew Deutsch</b></center></p>\n",
    "<p class=\"date\" style=\"padding: 0;\"><center><b>March 7, 2025</b></center></p>\n",
    "\n",
    "---\n",
    "\n",
    "# Outline\n",
    "\n",
    "This notebook complements the mathematical concepts discussed in [The Angle Specification for GSLIB Software](https://geostatisticslessons.com/lessons/anglespecification). Understanding the orientation of anisotropy in three-dimensional space is essential for geostatistical modeling. It influences key processes such as calculating experimental variograms along specific directions, aligning search ellipsoids for kriging and simulation with geologic continuity, and re-orienting coordinate systems for modeling efficiency. This notebook illustrates how to construct and apply GSLIB convention rotation matrices to align an ellipsoid with its principal continuity directions.\n",
    "\n",
    "1. **Define Rotation Matrices**\n",
    "    - Define functions to return the three elemental rotation matrices.\n",
    "    - Define a function to return a full GSLIB Z-X-Y rotation matrix.\n",
    "2. **Rotate 2D Ellipse**\n",
    "    - Initialize an anisotropic two-dimensional ellipse.\n",
    "    - Demonstrate rotating the ellipse about the Z-axis (angle 1).\n",
    "2. **Rotate 3D Ellipsoid**\n",
    "    - Initialize a rotated, anisotropic three-dimensional target ellipsoid from a fitted variogram model.\n",
    "    - Initialize an unrotated copy of the target (source ellipsoid).\n",
    "    - Demonstrate the three elemental rotations (angles 1, 2 and 3) to align the source ellipsoid with the target, visualizing the intermediate orientations.\n",
    "    - Demonstrate applying the full rotation matrix to the source and reversing the rotations with $R^{T}$.\n",
    "2. **Rotation Conventions**\n",
    "    - Demonstrate converting angles from another rotation convention to GSLIB angles.\n",
    "\n",
    "\n",
    "The presented workflow may be extended to represent other deposits. Inline annotations with each step will note practical adjustments that may be necessary for this extension."
   ]
  },
  {
   "cell_type": "markdown",
   "id": "bf182411",
   "metadata": {},
   "source": [
    "---\n",
    "\n",
    "Import required packages:"
   ]
  },
  {
   "cell_type": "code",
   "execution_count": null,
   "id": "1",
   "metadata": {},
   "outputs": [],
   "source": [
    "import matplotlib.pyplot as plt\n",
    "import numpy as np\n",
    "from copy import deepcopy\n",
    "import rmsp"
   ]
  },
  {
   "cell_type": "markdown",
   "id": "eb96f865",
   "metadata": {},
   "source": [
    "Import numpy functions to facilitate trigonometry:"
   ]
  },
  {
   "cell_type": "code",
   "execution_count": null,
   "id": "f9b9c054",
   "metadata": {},
   "outputs": [],
   "source": [
    "from numpy import sin, cos, radians"
   ]
  },
  {
   "cell_type": "markdown",
   "id": "452086c7",
   "metadata": {},
   "source": [
    "Activate rmsp and set global parameters:"
   ]
  },
  {
   "cell_type": "code",
   "execution_count": null,
   "id": "2",
   "metadata": {},
   "outputs": [],
   "source": [
    "rmsp.activate()\n",
    "log_progress = False  # Set to true for progressbars on intensive tasks\n",
    "rmsp.GlobalParams[\"core.log_progress\"] = log_progress\n",
    "rmsp.GlobalParams[\"core.enable_beta\"] = True"
   ]
  },
  {
   "cell_type": "markdown",
   "id": "ec3b51ff",
   "metadata": {},
   "source": [
    "Define some plotting parameters and functions. **This section can likely be ignored as it does not relate to the core focus of the notebook.**"
   ]
  },
  {
   "cell_type": "code",
   "execution_count": null,
   "id": "861e96c2",
   "metadata": {},
   "outputs": [],
   "source": [
    "grid_plot_params = {\"c\": \"0.8\", \"block_shrink\": 1.0}\n",
    "\n",
    "arrow_pars = {\n",
    "    \"2d\": {\"radius\": 0.125, \"head_width_scale\": 2.75},\n",
    "    \"3d\": {\"radius\": 1.5, \"head_width_scale\": 1.75},\n",
    "}\n",
    "\n",
    "arrow_kws = {\n",
    "    \"2d\": [\n",
    "        {\"face_c\": \"green\", \"alpha\": 1.0, \"face_label\": \"Major\"},\n",
    "        {\"face_c\": \"red\", \"alpha\": 1.0, \"face_label\": \"Minor\"},\n",
    "        {\"face_c\": \"blue\", \"alpha\": 1.0, \"face_label\": \"Vertical\"},\n",
    "    ],\n",
    "    \"3d\": [\n",
    "        {\"color\": \"green\", \"alpha\": 1.0, \"label\": \"Major\"},\n",
    "        {\"color\": \"red\", \"alpha\": 1.0, \"label\": \"Minor\"},\n",
    "        {\"color\": \"blue\", \"alpha\": 1.0, \"label\": \"Vertical\"},\n",
    "    ],\n",
    "}\n",
    "\n",
    "camera_params = {\n",
    "    \"plan\": [0.00, 0.00, 727.87, 0.00, 0.00, 0.00, 0.00, 1.00, 0.00],\n",
    "    \"oblique\": [549.27, -413.79, 69.94, 0.00, 0.00, 0.00, -0.09, 0.05, 0.99],\n",
    "}\n",
    "\n",
    "\n",
    "def annotate_2d_ellipse(ax, principals, arrow_kws):\n",
    "    \"\"\"Annotate the principal axes of a rotated ellipse in 2D.\n",
    "\n",
    "    Args:\n",
    "        ax (mpl.Axes): axes handle to return the plot\n",
    "        principals (list): list of principal arrows to plot\n",
    "        arrow_kws (list(dict)): a list of `rmsp.Solid.arrow` plotting kwds\n",
    "            in the order of major, minor, vertical\n",
    "    \"\"\"\n",
    "    for principal, kws in zip(principals, arrow_kws):\n",
    "        principal.sectionplot_draw(ax=ax, **kws)\n",
    "    return ax\n",
    "\n",
    "\n",
    "def annotate_3d_ellipsoid(vw, principals, arrow_kws):\n",
    "    \"\"\"Annotate the principal axes of a rotated ellipsoid in 3D.\n",
    "\n",
    "    Args:\n",
    "        vw (rmsp.Viewer): axes handle to return the plot\n",
    "        principals (list): list of principal arrows to plot\n",
    "        arrow_kws (list(dict)): a list of `rmsp.Solid.arrow` plotting kwds\n",
    "            in the order of major, minor, vertical\n",
    "    \"\"\"\n",
    "    for principal, kws in zip(principals, arrow_kws):\n",
    "        principal.view3d(viewer=vw, **kws)\n",
    "    return vw\n",
    "\n",
    "\n",
    "def view_ellipsoids(target_ellipsoid, ellipsoid,\n",
    "                    principals, label):\n",
    "    \"\"\"Return view of target ellipsoid with rotated ellipsoid\n",
    "\n",
    "    The principal arrows associated with the rotated ellipsoid are\n",
    "    also plotted.\n",
    "\n",
    "    Args:\n",
    "        target_ellipsoid (rmsp.Solid): target ellipsoid\n",
    "        ellipsoid (rmsp.Solid): progressively rotated ellipsoid\n",
    "        principals (list): list of principal directions corresponding\n",
    "            with ellipsoid\n",
    "        label (str): label applied to ellipsoid\n",
    "    \"\"\"\n",
    "    # Generate scene\n",
    "    vw = target_ellipsoid.view3d(color=\"C0\", alpha=0.2, label=\"Target\")\n",
    "    ellipsoid.view3d(viewer=vw, color=\"C3\", alpha=0.2, label=label)\n",
    "    vw = annotate_3d_ellipsoid(vw, principals, arrow_kws[\"3d\"])\n",
    "    # Plot and annotate multiple static views\n",
    "    fig, axes = plt.subplots(1, 2, figsize=(25, 10))\n",
    "    for (name, angle), ax in zip(camera_params.items(), axes):\n",
    "        vw.set_camera(angle)\n",
    "        vw.show_static(axis_kws={'font_size': 15}, ax=ax,\n",
    "                       title=name.capitalize() + \" View\")\n",
    "    fig.tight_layout(w_pad=-10)\n",
    "    for ax in axes:\n",
    "        ax.legend()\n",
    "    return vw  # return interactive viewer"
   ]
  },
  {
   "cell_type": "markdown",
   "id": "46fcf2b1-c721-4a7c-96ad-8ed1c4cd92de",
   "metadata": {},
   "source": [
    "Define additional functions to (1) rotate the ellipsoid object and (2) define and plot the principal axes of the ellipsoid. **Again, understanding of these functions are not essential to the notebook focus.**"
   ]
  },
  {
   "cell_type": "code",
   "execution_count": null,
   "id": "38cea4f6",
   "metadata": {},
   "outputs": [],
   "source": [
    "def rotate_ellipsoid(ellipsoid, rotation_matrix):\n",
    "    \"\"\"Rotate `ellipsoid` by `rotation_matrix`.\n",
    "\n",
    "    Args:\n",
    "        ellipsoid (rmsp.Solid.ellipsoid): ellipsoid object to be rotated\n",
    "        rotation_matrix (np.ndarray (3x3)): matrix defining rotations in Z-X-Y convention\n",
    "    \"\"\"\n",
    "    rot_ellipsoid = deepcopy(ellipsoid)\n",
    "    xyz = np.vstack(ellipsoid.coords())\n",
    "    uvw = np.matmul(rotation_matrix.T, xyz)\n",
    "    rot_ellipsoid.x = uvw[0, :]\n",
    "    rot_ellipsoid.y = uvw[1, :]\n",
    "    rot_ellipsoid.z = uvw[2, :]\n",
    "    return rot_ellipsoid\n",
    "\n",
    "\n",
    "def get_principal_axes(ranges, rotation_matrix, origin, arrow_pars,\n",
    "                       major=True, minor=True, vert=True):\n",
    "    \"\"\"Helper function to generate arrows of the principal axes of the rotated ellipsoid\n",
    "\n",
    "    Args:\n",
    "        rotation_matrix (np.ndarray (3x3)): matrix defining rotations in Z-X-Y convention\n",
    "        origin (three tuple): origin of principal axes\n",
    "        defined by `rotation_matrix`\n",
    "        major (bool): get the major axis?\n",
    "        minor (bool): get the minor axis?\n",
    "        vert (bool): get the vertical axis?\n",
    "    \"\"\"\n",
    "    amaj, amin, avrt = ranges\n",
    "    xt = [origin[0], amin, origin[2]]\n",
    "    yt = [amaj, origin[1], origin[2]]\n",
    "    zt = [origin[0], origin[1], avrt]\n",
    "    xyz = np.array([xt, yt, zt])\n",
    "    uvw = np.matmul(rotation_matrix.T, xyz)\n",
    "    principals = []\n",
    "    if major:\n",
    "        principals.append(\n",
    "            rmsp.Solid.arrow(origin, (uvw[0, 0], uvw[1, 0], uvw[2, 0]), **arrow_pars))\n",
    "    if minor:\n",
    "        principals.append(\n",
    "            rmsp.Solid.arrow(origin, (uvw[0, 1], uvw[1, 1], uvw[2, 1]), **arrow_pars))\n",
    "    if vert:\n",
    "        principals.append(\n",
    "            rmsp.Solid.arrow(origin, (uvw[0, 2], uvw[1, 2], uvw[2, 2]), **arrow_pars))\n",
    "    return principals"
   ]
  },
  {
   "cell_type": "markdown",
   "id": "0b0a5c50",
   "metadata": {},
   "source": [
    "---\n",
    "# Rotation Matrices\n",
    "\n",
    "Define a set of functions to return each elemental rotation matrix (about the Z, X, and Y axes), as well as a function to return the full GSLIB style rotation matrix defined by angles 1, 2, and 3."
   ]
  },
  {
   "cell_type": "code",
   "execution_count": null,
   "id": "0e3766a3",
   "metadata": {},
   "outputs": [],
   "source": [
    "def about_z(ang1):\n",
    "    \"\"\"Return the matrix for rotation about the Z-axis\n",
    "\n",
    "    Args:\n",
    "        ang1 (float): angle 1 rotation (azimuth) in radians\n",
    "    \"\"\"\n",
    "    return np.array([[cos(ang1), -sin(ang1), 0], [sin(ang1), cos(ang1), 0], [0, 0, 1]])\n",
    "\n",
    "\n",
    "def about_x(ang2):\n",
    "    \"\"\"Return the matrix for rotation about the X-axis\n",
    "\n",
    "    Args:\n",
    "        ang2 (float): angle 2 rotation (inclination) in radians\n",
    "    \"\"\"\n",
    "    return np.array([[1, 0, 0], [0, cos(ang2), sin(ang2)], [0, -sin(ang2), cos(ang2)]])\n",
    "\n",
    "\n",
    "def about_y(ang3):\n",
    "    \"\"\"Return the matrix for rotation about the Y-axis\n",
    "\n",
    "    Args:\n",
    "        ang3 (float): angle 3 rotation (tilt) in radians\n",
    "    \"\"\"\n",
    "    return np.array([[cos(ang3), 0, -sin(ang3)], [0, 1, 0], [sin(ang3), 0, cos(ang3)]])\n",
    "\n",
    "\n",
    "def gslib_rotation_matrix(ang1, ang2, ang3):\n",
    "    \"\"\"Return the full GSLIB Z-X-Y rotation matrix\n",
    "\n",
    "    Args:\n",
    "        ang1 (float): angle 1 rotation (azimuth) in radians\n",
    "        ang2 (float): angle 2 rotation (inclination) in radians\n",
    "        ang3 (float): angle 3 rotation (tilt) in radians\n",
    "    \"\"\"\n",
    "    rotmat = np.zeros((3, 3))\n",
    "    rotmat[0, :] = (\n",
    "        cos(ang1) * cos(ang3) + sin(ang1) * sin(ang2) * sin(ang3),\n",
    "        -sin(ang1) * cos(ang3) + cos(ang1) * sin(ang2) * sin(ang3),\n",
    "        -cos(ang2) * sin(ang3),\n",
    "    )\n",
    "    rotmat[1, :] = sin(ang1) * cos(ang2), cos(ang1) * cos(ang2), sin(ang2)\n",
    "    rotmat[2, :] = (\n",
    "        cos(ang1) * sin(ang3) - sin(ang1) * sin(ang2) * cos(ang3),\n",
    "        -sin(ang1) * sin(ang3) - cos(ang1) * sin(ang2) * cos(ang3),\n",
    "        cos(ang2) * cos(ang3),\n",
    "    )\n",
    "    return rotmat"
   ]
  },
  {
   "cell_type": "markdown",
   "id": "5633c378",
   "metadata": {},
   "source": [
    "Test that the multiplication of the individual rotation matrices yields the final rotation matrix. Note the matrix multiplication is non-commutative and thus the order matters."
   ]
  },
  {
   "cell_type": "code",
   "execution_count": null,
   "id": "7cc04f61",
   "metadata": {},
   "outputs": [],
   "source": [
    "ang1, ang2, ang3 = radians(113), radians(34), radians(-17)\n",
    "rm0 = np.matmul(about_y(ang3), np.matmul(about_x(ang2), about_z(ang1)))\n",
    "rm1 = gslib_rotation_matrix(ang1, ang2, ang3)\n",
    "np.allclose(rm0, rm1)"
   ]
  },
  {
   "cell_type": "markdown",
   "id": "4",
   "metadata": {},
   "source": [
    "---\n",
    "# 2D Example\n",
    "\n",
    "This example demonstrates the simple rotation of an ellipse in 2D using a range of azimuths (angle 1 in GSLIB convention). "
   ]
  },
  {
   "cell_type": "markdown",
   "id": "4bd31287",
   "metadata": {},
   "source": [
    "Define a simple grid centered on (0,0,0) for reference:"
   ]
  },
  {
   "cell_type": "code",
   "execution_count": null,
   "id": "828c1fd3",
   "metadata": {},
   "outputs": [],
   "source": [
    "grid2d = rmsp.GridDef(\n",
    "    xcmin=-10, ycmin=-10, zcmin=0,\n",
    "    nu=21, nv=21, nz=1,\n",
    "    vsize=1, usize=1, zsize=1,\n",
    "    blockindices=\"full\",\n",
    ")"
   ]
  },
  {
   "cell_type": "markdown",
   "id": "0ed10803",
   "metadata": {},
   "source": [
    "Initialize an anisotropic ellipse to be rotated:"
   ]
  },
  {
   "cell_type": "code",
   "execution_count": null,
   "id": "6d5707c6",
   "metadata": {},
   "outputs": [],
   "source": [
    "ranges = [8, 4, 0]\n",
    "ellipse = rmsp.Solid.ellipsoid(ranges=ranges)\n",
    "fig, ax, cax = grid2d.sectionplot(**grid_plot_params, title=\"\")\n",
    "ellipse.sectionplot_draw(ax=ax, coordinate=0)"
   ]
  },
  {
   "cell_type": "markdown",
   "id": "c6c45cd3",
   "metadata": {},
   "source": [
    "Define a list of multiple azimuths:"
   ]
  },
  {
   "cell_type": "code",
   "execution_count": null,
   "id": "cbad508e",
   "metadata": {},
   "outputs": [],
   "source": [
    "azimuths = [30.0, 110.0, 265.0, 339.0]"
   ]
  },
  {
   "cell_type": "markdown",
   "id": "5425e788",
   "metadata": {},
   "source": [
    "Iterate over the rotations and plot the ellipses:"
   ]
  },
  {
   "cell_type": "code",
   "execution_count": null,
   "id": "4507bac3",
   "metadata": {},
   "outputs": [],
   "source": [
    "fig, axes = plt.subplots(2, 2, figsize=(8, 8), sharex=\"all\", sharey=\"all\")\n",
    "for ax, azm in zip(axes.flat, azimuths):\n",
    "\n",
    "    # Calculate rotation matrix before applying it to ellipse and principal vectors\n",
    "    rotation_matrix = about_z(radians(azm))\n",
    "    rot_ellipse = rotate_ellipsoid(ellipse, rotation_matrix)\n",
    "    principals = get_principal_axes(\n",
    "        ranges, rotation_matrix, (0, 0, 0), arrow_pars[\"2d\"], vert=False)\n",
    "\n",
    "    # Plot the ellipse and arrows over the grid\n",
    "    grid2d.sectionplot(ax=ax, title=f\"Angle 1={azm}\", **grid_plot_params)\n",
    "    rot_ellipse.sectionplot_draw(ax=ax, coordinate=0, tolerances=0.1)\n",
    "    ax = annotate_2d_ellipse(ax, principals, arrow_kws[\"2d\"])\n",
    "    _ = ax.legend()\n",
    "fig.tight_layout()"
   ]
  },
  {
   "cell_type": "markdown",
   "id": "9394f82b",
   "metadata": {},
   "source": [
    "---\n",
    "# 3D Example\n",
    "\n",
    "In this example we will extract a rotated, anisotropic ellipsoid from a variogram model fit to copper composite data. We will then initialize an unrotated source ellipsoid and demonstrate the three elemental rotations used to achieve the final orientation. The intermediate ellipsoids and principal angles are shown in 3D relative to the drillhole data and final target ellipsoid. Finally, rotation of the source ellipsoid is demonstrated using the full rotation matrix in a single step. _Note the figures in this section are intended to be interactive and viewed in 3D_."
   ]
  },
  {
   "cell_type": "markdown",
   "id": "489de6eb",
   "metadata": {},
   "source": [
    "## Load Data\n",
    "\n",
    "Prior to demonstrating rotations, the target search ellipsoid will be visualized with respect to the data, emphasizing that the anisotropy that these rotations facilitate is typically based on continuity of regionalized random variables (copper grade here).\n",
    "\n",
    "Load example data:"
   ]
  },
  {
   "cell_type": "code",
   "execution_count": null,
   "id": "001b65a8",
   "metadata": {},
   "outputs": [],
   "source": [
    "comps = rmsp.load_example_data(\"copper_composite\", set_params=True)\n",
    "comps.head()"
   ]
  },
  {
   "cell_type": "markdown",
   "id": "3e8258f4-3468-4d83-b4cc-2457d8d2dd46",
   "metadata": {},
   "source": [
    "Center the data on a [0, 0, 0] origin, which isn't required but simplifies rotations and visualizations:"
   ]
  },
  {
   "cell_type": "code",
   "execution_count": null,
   "id": "ffcfe26c-1d26-4c16-ae34-ddc9e80f4c98",
   "metadata": {},
   "outputs": [],
   "source": [
    "for i, d in enumerate(['x', 'y', 'z']):\n",
    "    for prefix in ['start', 'end', '']:\n",
    "        comps[prefix + d] -= comps.spatial_centroid[i]\n",
    "origin = np.round(comps.spatial_centroid, 3)\n",
    "origin"
   ]
  },
  {
   "cell_type": "markdown",
   "id": "296a9986",
   "metadata": {},
   "source": [
    "Initialize the anisotropic variogram model with rotation using a GSLIB-style variogram string (fit separately to the data):"
   ]
  },
  {
   "cell_type": "code",
   "execution_count": null,
   "id": "7ef69aca",
   "metadata": {},
   "outputs": [],
   "source": [
    "variomod = rmsp.VarioModel(\n",
    "    vario_str=\"\"\"1    0.180             - num_struct, nugget\n",
    "    1    0.820   32.3   77.0   33.4     - shape, var_contrib, angle1, angle2, angle3\n",
    "                414.0   276.0  90.3     - range1, range2, range3\"\"\"\n",
    ")\n",
    "variomod"
   ]
  },
  {
   "cell_type": "markdown",
   "id": "68f8acb6",
   "metadata": {},
   "source": [
    "Generate a search ellipsoid based on an isocontour of the variogram at $\\gamma=0.5$:"
   ]
  },
  {
   "cell_type": "code",
   "execution_count": null,
   "id": "86eb3246",
   "metadata": {},
   "outputs": [],
   "source": [
    "target_search = rmsp.Search.from_vario_buffer(variomod, buffer_at=0.5)\n",
    "target_ellipsoid = target_search.to_solid()\n",
    "target_search"
   ]
  },
  {
   "cell_type": "markdown",
   "id": "8e286e16",
   "metadata": {},
   "source": [
    "Visualize the anisotropic search ellipsoid in the context of the data:"
   ]
  },
  {
   "cell_type": "code",
   "execution_count": null,
   "id": "2d2cece2-b627-4f2d-9ab4-fc924a2d9eb7",
   "metadata": {},
   "outputs": [],
   "source": [
    "viewer = comps.view3d(\"CU\", representation='Surface', label=\"DDH\")\n",
    "target_ellipsoid.view3d(color=\"C0\", alpha=0.2, label=\"Search Ellipsoid\",\n",
    "                        viewer=viewer)\n",
    "for name, angle in camera_params.items():\n",
    "    viewer.set_camera(angle)\n",
    "    fig, ax = viewer.show_static(title=name.capitalize() + \" View\")\n",
    "    ax.legend()\n",
    "\n",
    "# viewer  # uncomment for interactive view"
   ]
  },
  {
   "cell_type": "markdown",
   "id": "ce66f823",
   "metadata": {},
   "source": [
    "## Elemental Rotations"
   ]
  },
  {
   "cell_type": "markdown",
   "id": "b3fbfde0",
   "metadata": {},
   "source": [
    "Extract the target ranges and rotation angles (converted to radians):"
   ]
  },
  {
   "cell_type": "code",
   "execution_count": null,
   "id": "e99629b6",
   "metadata": {},
   "outputs": [],
   "source": [
    "ranges = target_search.ranges\n",
    "ang1, ang2, ang3 = [radians(x) for x in target_search.angles]"
   ]
  },
  {
   "cell_type": "markdown",
   "id": "ccd5f6ef",
   "metadata": {},
   "source": [
    "Initialize an unrotated ellipsoid with the same anisotropy ratios:"
   ]
  },
  {
   "cell_type": "code",
   "execution_count": null,
   "id": "2db7b743",
   "metadata": {},
   "outputs": [],
   "source": [
    "target_ellipsoid = target_search.to_solid(origin)\n",
    "ellipsoid = rmsp.Solid.ellipsoid(ranges=ranges, origin=origin)\n",
    "principals0 = get_principal_axes(ranges, np.eye(3, 3),\n",
    "                                 origin, arrow_pars[\"3d\"])"
   ]
  },
  {
   "cell_type": "markdown",
   "id": "00677643",
   "metadata": {},
   "source": [
    "Plot the unrotated ellipsoid and principal arrows with the target ellipsoid:"
   ]
  },
  {
   "cell_type": "code",
   "execution_count": null,
   "id": "b0bcd301",
   "metadata": {},
   "outputs": [],
   "source": [
    "viewer = view_ellipsoids(target_ellipsoid, ellipsoid, principals0, \"Rotation 0\")\n",
    "# viewer  # uncomment for interactive view"
   ]
  },
  {
   "cell_type": "markdown",
   "id": "6000bc96",
   "metadata": {},
   "source": [
    "Perform the first elemental rotation about the Z axis:"
   ]
  },
  {
   "cell_type": "code",
   "execution_count": null,
   "id": "dd63e6e9",
   "metadata": {},
   "outputs": [],
   "source": [
    "rotmat1 = about_z(ang1)\n",
    "ellipsoid_rot1 = rotate_ellipsoid(ellipsoid, rotmat1)\n",
    "principals1 = get_principal_axes(ranges, rotmat1, origin, arrow_pars[\"3d\"])"
   ]
  },
  {
   "cell_type": "markdown",
   "id": "44d4772c",
   "metadata": {},
   "source": [
    "Plot the ellipsoid after the first rotation:"
   ]
  },
  {
   "cell_type": "code",
   "execution_count": null,
   "id": "3dd13712-e6aa-4ac4-af9c-c20b67989cb6",
   "metadata": {},
   "outputs": [],
   "source": [
    "viewer = view_ellipsoids(target_ellipsoid, ellipsoid_rot1, principals1, \"Rotation 1\")\n",
    "# viewer  # uncomment for interactive view"
   ]
  },
  {
   "cell_type": "markdown",
   "id": "1bcde6b7",
   "metadata": {},
   "source": [
    "Perform the second elemental rotation about the new X axis:"
   ]
  },
  {
   "cell_type": "code",
   "execution_count": null,
   "id": "e149978d",
   "metadata": {},
   "outputs": [],
   "source": [
    "rotmat2 = np.matmul(about_x(ang2), rotmat1)\n",
    "ellipsoid_rot12 = rotate_ellipsoid(ellipsoid, rotmat2)\n",
    "principals2 = get_principal_axes(\n",
    "    ranges,\n",
    "    rotmat2,\n",
    "    origin,\n",
    "    arrow_pars[\"3d\"],\n",
    ")"
   ]
  },
  {
   "cell_type": "markdown",
   "id": "01157d84",
   "metadata": {},
   "source": [
    "Plot the ellipsoid after the second rotation:"
   ]
  },
  {
   "cell_type": "code",
   "execution_count": null,
   "id": "505a166d",
   "metadata": {},
   "outputs": [],
   "source": [
    "viewer = view_ellipsoids(target_ellipsoid, ellipsoid_rot12, principals2, \"Rotation 1\")\n",
    "# viewer  # uncomment for interactive view"
   ]
  },
  {
   "cell_type": "markdown",
   "id": "ded80910",
   "metadata": {},
   "source": [
    "Perform the third elemental rotation about the new Y axis:"
   ]
  },
  {
   "cell_type": "code",
   "execution_count": null,
   "id": "54dd4194",
   "metadata": {},
   "outputs": [],
   "source": [
    "rotmat3 = np.matmul(about_y(ang3), rotmat2)\n",
    "ellipsoid_rot123 = rotate_ellipsoid(ellipsoid, rotmat3)\n",
    "principals3 = get_principal_axes(\n",
    "    ranges,\n",
    "    rotmat3,\n",
    "    origin,\n",
    "    arrow_pars[\"3d\"],\n",
    ")"
   ]
  },
  {
   "cell_type": "markdown",
   "id": "1340980b",
   "metadata": {},
   "source": [
    "Plot the ellipsoid after the third rotation:"
   ]
  },
  {
   "cell_type": "code",
   "execution_count": null,
   "id": "e1400f7f",
   "metadata": {},
   "outputs": [],
   "source": [
    "viewer = view_ellipsoids(target_ellipsoid, ellipsoid_rot123, principals3, \"Rotation 1-3\")\n",
    "# viewer  # uncomment for interactive view"
   ]
  },
  {
   "cell_type": "markdown",
   "id": "89371887",
   "metadata": {},
   "source": [
    "## Full Rotation Matrix\n",
    "\n",
    "Note, all rotations can be achieved simultaneously by applying the final rotation matrix:"
   ]
  },
  {
   "cell_type": "code",
   "execution_count": null,
   "id": "73d3d7d4",
   "metadata": {},
   "outputs": [],
   "source": [
    "rotmat_gslib = gslib_rotation_matrix(ang1, ang2, ang3)\n",
    "ellipsoid_rot_gslib = rotate_ellipsoid(ellipsoid, rotmat_gslib)\n",
    "principals_gslib = get_principal_axes(\n",
    "    ranges, rotmat_gslib, origin, arrow_pars[\"3d\"], vert=True\n",
    ")"
   ]
  },
  {
   "cell_type": "markdown",
   "id": "16d5ff82",
   "metadata": {},
   "source": [
    "Plot the ellipsoids, noting the target and rotated ellipsoids overlap perfectly:"
   ]
  },
  {
   "cell_type": "code",
   "execution_count": null,
   "id": "1909ebac",
   "metadata": {},
   "outputs": [],
   "source": [
    "viewer = view_ellipsoids(target_ellipsoid, ellipsoid_rot_gslib, principals_gslib, \"GSLIB Rotation Matrix\")\n",
    "# viewer  # uncomment for interactive view"
   ]
  },
  {
   "cell_type": "markdown",
   "id": "ba19c9df",
   "metadata": {},
   "source": [
    "As the rotation matrix is orthogonal by construction, and therefore $R^{-1}=R^{T}$, the rotations can be reversed by multiplying by the matrix transpose: "
   ]
  },
  {
   "cell_type": "code",
   "execution_count": null,
   "id": "aba9ada9",
   "metadata": {},
   "outputs": [],
   "source": [
    "ellipsoid_orig = rotate_ellipsoid(ellipsoid_rot_gslib, rotmat_gslib.T)\n",
    "principals_orig = get_principal_axes(\n",
    "    ranges, np.eye(3), origin, arrow_pars[\"3d\"], vert=True\n",
    ")"
   ]
  },
  {
   "cell_type": "markdown",
   "id": "b64d46a1",
   "metadata": {},
   "source": [
    "Plot the unrotated ellipsoid:"
   ]
  },
  {
   "cell_type": "code",
   "execution_count": null,
   "id": "3d854614",
   "metadata": {},
   "outputs": [],
   "source": [
    "viewer = view_ellipsoids(target_ellipsoid, ellipsoid_orig, principals_orig, \"Inverse Rotation\")\n",
    "# viewer  # uncomment for interactive view"
   ]
  },
  {
   "cell_type": "markdown",
   "id": "c718e81f",
   "metadata": {},
   "source": [
    "---\n",
    "# Rotation Conventions in RMSP\n",
    "\n",
    "RMSP uses the GSLIB rotation convention for representing search ellipsoids and other orientations in 3D. This convention considers three rotations about the vertical, minor, and finally major axes. However, other software packages use different rotation axes, different initial orientations, and different sign conventions.\n",
    "\n",
    "The `rmsp.RotationConvention` class encodes several of the conventions for different software packages and others can be specified programmatically. This class also provides a method for converting from one convention to another."
   ]
  },
  {
   "cell_type": "markdown",
   "id": "ab3c8c58",
   "metadata": {},
   "source": [
    "Convert a set of angles from Datamine™ to GSLIB:"
   ]
  },
  {
   "cell_type": "code",
   "execution_count": null,
   "id": "5e8a2430",
   "metadata": {},
   "outputs": [],
   "source": [
    "gslib = rmsp.RotationConvention.gslib()\n",
    "datamine = rmsp.RotationConvention.datamine(axis_order=\"zxz\", major=\"x\")\n",
    "\n",
    "datamine_angles = (120, 45, 30)\n",
    "gslib_angles = datamine.to(gslib, *datamine_angles)\n",
    "print(gslib_angles)"
   ]
  },
  {
   "cell_type": "markdown",
   "id": "da0eb1ad",
   "metadata": {},
   "source": [
    "---\n",
    "# Concluding Remarks"
   ]
  },
  {
   "cell_type": "markdown",
   "id": "6a9819be",
   "metadata": {},
   "source": [
    "The rotation of an object in three-dimensional space can be defined by three elemental rotations. In software following the GSLIB rotation convention, these occur sequentially: first around the Z-axis (azimuth), then around the new X-axis (inclination), and finally around the new Y-axis (tilt). This notebook explores the mathematics behind these rotations, which play a crucial role in various geological modeling workflows. Understanding these principles is also essential for converting between different rotation conventions—a process that can be complex and a common source of confusion among practitioners. To simplify this, RMSP provides the `RotationConvention` class, which facilitates conversion between conventions."
   ]
  },
  {
   "cell_type": "markdown",
   "id": "6",
   "metadata": {},
   "source": [
    "<footer>\n",
    "<div style=\"text-align:center\">    \n",
    "    <p style=\"text-align:center; color:#00797C\"> Partners: </p>\n",
    "    <a href=\"https://resourcemodelingsolutions.com\"><img class=\"rs\" style=\"max-width:200px;\"    src=\"https://geostatisticslessons.com/images/icons/resource_modeling_solutions_logo.png\">\n",
    "    </a>\n",
    "    <a  href=\"https://geostatisticslessons.com/termsofuse\"> <p style=\"text-align:center; color:#00797C\">  Terms of Use </p></a>\n",
    "    <a href=\"mailto:contact@resmodsol.com\"> <p style=\"text-align:center; color:#00589d\">Contact Resource Modeling Solutions about a commercial or academic license for RMSP</p> </a>\n",
    "</div>\n",
    "</footer>"
   ]
  }
 ],
 "metadata": {
  "kernelspec": {
   "display_name": "Python 3 (ipykernel)",
   "language": "python",
   "name": "python3"
  },
  "language_info": {
   "codemirror_mode": {
    "name": "ipython",
    "version": 3
   },
   "file_extension": ".py",
   "mimetype": "text/x-python",
   "name": "python",
   "nbconvert_exporter": "python",
   "pygments_lexer": "ipython3",
   "version": "3.12.5"
  },
  "widgets": {
   "application/vnd.jupyter.widget-state+json": {
    "state": {},
    "version_major": 2,
    "version_minor": 0
   }
  }
 },
 "nbformat": 4,
 "nbformat_minor": 5
}
